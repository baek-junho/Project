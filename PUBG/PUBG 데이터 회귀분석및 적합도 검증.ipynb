{
 "cells": [
  {
   "cell_type": "markdown",
   "metadata": {},
   "source": [
    "# 회귀분석"
   ]
  },
  {
   "cell_type": "code",
   "execution_count": 1,
   "metadata": {},
   "outputs": [],
   "source": [
    "import time\n",
    "import numpy as np\n",
    "import pandas as pd\n",
    "import matplotlib.pyplot as plt\n",
    "import seaborn as sns\n",
    "import warnings\n",
    "warnings.filterwarnings('ignore')\n",
    "import statsmodels.formula.api as sm\n",
    "from statsmodels.sandbox.regression.predstd import wls_prediction_std "
   ]
  },
  {
   "cell_type": "code",
   "execution_count": 2,
   "metadata": {},
   "outputs": [],
   "source": [
    "train= pd.read_csv('train.csv')"
   ]
  },
  {
   "cell_type": "code",
   "execution_count": 3,
   "metadata": {},
   "outputs": [],
   "source": [
    "train = train.fillna(0)"
   ]
  },
  {
   "cell_type": "code",
   "execution_count": 4,
   "metadata": {},
   "outputs": [],
   "source": [
    "# 회귀분석및 모델 훈련 결과를 얻기위해 필요한 컬럼만 남긴다\n",
    "train = train [['assists', 'boosts', 'heals', 'damageDealt','DBNOs', 'kills', 'headshotKills', 'killStreaks','longestKill', 'rideDistance','walkDistance','weaponsAcquired', 'winPlacePerc']]"
   ]
  },
  {
   "cell_type": "code",
   "execution_count": 5,
   "metadata": {},
   "outputs": [
    {
     "data": {
      "text/html": [
       "<table class=\"simpletable\">\n",
       "<caption>OLS Regression Results</caption>\n",
       "<tr>\n",
       "  <th>Dep. Variable:</th>      <td>winPlacePerc</td>   <th>  R-squared:         </th>  <td>   0.716</td> \n",
       "</tr>\n",
       "<tr>\n",
       "  <th>Model:</th>                   <td>OLS</td>       <th>  Adj. R-squared:    </th>  <td>   0.716</td> \n",
       "</tr>\n",
       "<tr>\n",
       "  <th>Method:</th>             <td>Least Squares</td>  <th>  F-statistic:       </th>  <td>2.054e+05</td>\n",
       "</tr>\n",
       "<tr>\n",
       "  <th>Date:</th>             <td>Tue, 01 Sep 2020</td> <th>  Prob (F-statistic):</th>   <td>  0.00</td>  \n",
       "</tr>\n",
       "<tr>\n",
       "  <th>Time:</th>                 <td>17:21:35</td>     <th>  Log-Likelihood:    </th> <td>3.8083e+05</td>\n",
       "</tr>\n",
       "<tr>\n",
       "  <th>No. Observations:</th>      <td>975959</td>      <th>  AIC:               </th> <td>-7.616e+05</td>\n",
       "</tr>\n",
       "<tr>\n",
       "  <th>Df Residuals:</th>          <td>975946</td>      <th>  BIC:               </th> <td>-7.615e+05</td>\n",
       "</tr>\n",
       "<tr>\n",
       "  <th>Df Model:</th>              <td>    12</td>      <th>                     </th>      <td> </td>    \n",
       "</tr>\n",
       "<tr>\n",
       "  <th>Covariance Type:</th>      <td>nonrobust</td>    <th>                     </th>      <td> </td>    \n",
       "</tr>\n",
       "</table>\n",
       "<table class=\"simpletable\">\n",
       "<tr>\n",
       "         <td></td>            <th>coef</th>     <th>std err</th>      <th>t</th>      <th>P>|t|</th>  <th>[0.025</th>    <th>0.975]</th>  \n",
       "</tr>\n",
       "<tr>\n",
       "  <th>Intercept</th>       <td>    0.1661</td> <td>    0.000</td> <td>  526.496</td> <td> 0.000</td> <td>    0.165</td> <td>    0.167</td>\n",
       "</tr>\n",
       "<tr>\n",
       "  <th>assists</th>         <td>    0.0103</td> <td>    0.000</td> <td>   32.641</td> <td> 0.000</td> <td>    0.010</td> <td>    0.011</td>\n",
       "</tr>\n",
       "<tr>\n",
       "  <th>boosts</th>          <td>    0.0216</td> <td>    0.000</td> <td>  147.502</td> <td> 0.000</td> <td>    0.021</td> <td>    0.022</td>\n",
       "</tr>\n",
       "<tr>\n",
       "  <th>heals</th>           <td>    0.0017</td> <td> 7.52e-05</td> <td>   23.116</td> <td> 0.000</td> <td>    0.002</td> <td>    0.002</td>\n",
       "</tr>\n",
       "<tr>\n",
       "  <th>damageDealt</th>     <td>    0.0001</td> <td> 2.38e-06</td> <td>   56.991</td> <td> 0.000</td> <td>    0.000</td> <td>    0.000</td>\n",
       "</tr>\n",
       "<tr>\n",
       "  <th>DBNOs</th>           <td>   -0.0244</td> <td>    0.000</td> <td> -108.922</td> <td> 0.000</td> <td>   -0.025</td> <td>   -0.024</td>\n",
       "</tr>\n",
       "<tr>\n",
       "  <th>kills</th>           <td>   -0.0016</td> <td>    0.000</td> <td>   -5.297</td> <td> 0.000</td> <td>   -0.002</td> <td>   -0.001</td>\n",
       "</tr>\n",
       "<tr>\n",
       "  <th>headshotKills</th>   <td>   -0.0023</td> <td>    0.000</td> <td>   -6.102</td> <td> 0.000</td> <td>   -0.003</td> <td>   -0.002</td>\n",
       "</tr>\n",
       "<tr>\n",
       "  <th>killStreaks</th>     <td>    0.0374</td> <td>    0.000</td> <td>   92.776</td> <td> 0.000</td> <td>    0.037</td> <td>    0.038</td>\n",
       "</tr>\n",
       "<tr>\n",
       "  <th>longestKill</th>     <td> 8.345e-05</td> <td> 4.26e-06</td> <td>   19.600</td> <td> 0.000</td> <td> 7.51e-05</td> <td> 9.18e-05</td>\n",
       "</tr>\n",
       "<tr>\n",
       "  <th>rideDistance</th>    <td> 1.217e-05</td> <td> 1.21e-07</td> <td>  100.206</td> <td> 0.000</td> <td> 1.19e-05</td> <td> 1.24e-05</td>\n",
       "</tr>\n",
       "<tr>\n",
       "  <th>walkDistance</th>    <td>    0.0002</td> <td> 2.04e-07</td> <td>  739.012</td> <td> 0.000</td> <td>    0.000</td> <td>    0.000</td>\n",
       "</tr>\n",
       "<tr>\n",
       "  <th>weaponsAcquired</th> <td>    0.0203</td> <td> 8.25e-05</td> <td>  246.702</td> <td> 0.000</td> <td>    0.020</td> <td>    0.021</td>\n",
       "</tr>\n",
       "</table>\n",
       "<table class=\"simpletable\">\n",
       "<tr>\n",
       "  <th>Omnibus:</th>       <td>88800.062</td> <th>  Durbin-Watson:     </th>  <td>   2.000</td> \n",
       "</tr>\n",
       "<tr>\n",
       "  <th>Prob(Omnibus):</th>  <td> 0.000</td>   <th>  Jarque-Bera (JB):  </th> <td>397114.763</td>\n",
       "</tr>\n",
       "<tr>\n",
       "  <th>Skew:</th>           <td> 0.353</td>   <th>  Prob(JB):          </th>  <td>    0.00</td> \n",
       "</tr>\n",
       "<tr>\n",
       "  <th>Kurtosis:</th>       <td> 6.044</td>   <th>  Cond. No.          </th>  <td>5.59e+03</td> \n",
       "</tr>\n",
       "</table><br/><br/>Warnings:<br/>[1] Standard Errors assume that the covariance matrix of the errors is correctly specified.<br/>[2] The condition number is large, 5.59e+03. This might indicate that there are<br/>strong multicollinearity or other numerical problems."
      ],
      "text/plain": [
       "<class 'statsmodels.iolib.summary.Summary'>\n",
       "\"\"\"\n",
       "                            OLS Regression Results                            \n",
       "==============================================================================\n",
       "Dep. Variable:           winPlacePerc   R-squared:                       0.716\n",
       "Model:                            OLS   Adj. R-squared:                  0.716\n",
       "Method:                 Least Squares   F-statistic:                 2.054e+05\n",
       "Date:                Tue, 01 Sep 2020   Prob (F-statistic):               0.00\n",
       "Time:                        17:21:35   Log-Likelihood:             3.8083e+05\n",
       "No. Observations:              975959   AIC:                        -7.616e+05\n",
       "Df Residuals:                  975946   BIC:                        -7.615e+05\n",
       "Df Model:                          12                                         \n",
       "Covariance Type:            nonrobust                                         \n",
       "===================================================================================\n",
       "                      coef    std err          t      P>|t|      [0.025      0.975]\n",
       "-----------------------------------------------------------------------------------\n",
       "Intercept           0.1661      0.000    526.496      0.000       0.165       0.167\n",
       "assists             0.0103      0.000     32.641      0.000       0.010       0.011\n",
       "boosts              0.0216      0.000    147.502      0.000       0.021       0.022\n",
       "heals               0.0017   7.52e-05     23.116      0.000       0.002       0.002\n",
       "damageDealt         0.0001   2.38e-06     56.991      0.000       0.000       0.000\n",
       "DBNOs              -0.0244      0.000   -108.922      0.000      -0.025      -0.024\n",
       "kills              -0.0016      0.000     -5.297      0.000      -0.002      -0.001\n",
       "headshotKills      -0.0023      0.000     -6.102      0.000      -0.003      -0.002\n",
       "killStreaks         0.0374      0.000     92.776      0.000       0.037       0.038\n",
       "longestKill      8.345e-05   4.26e-06     19.600      0.000    7.51e-05    9.18e-05\n",
       "rideDistance     1.217e-05   1.21e-07    100.206      0.000    1.19e-05    1.24e-05\n",
       "walkDistance        0.0002   2.04e-07    739.012      0.000       0.000       0.000\n",
       "weaponsAcquired     0.0203   8.25e-05    246.702      0.000       0.020       0.021\n",
       "==============================================================================\n",
       "Omnibus:                    88800.062   Durbin-Watson:                   2.000\n",
       "Prob(Omnibus):                  0.000   Jarque-Bera (JB):           397114.763\n",
       "Skew:                           0.353   Prob(JB):                         0.00\n",
       "Kurtosis:                       6.044   Cond. No.                     5.59e+03\n",
       "==============================================================================\n",
       "\n",
       "Warnings:\n",
       "[1] Standard Errors assume that the covariance matrix of the errors is correctly specified.\n",
       "[2] The condition number is large, 5.59e+03. This might indicate that there are\n",
       "strong multicollinearity or other numerical problems.\n",
       "\"\"\""
      ]
     },
     "execution_count": 5,
     "metadata": {},
     "output_type": "execute_result"
    }
   ],
   "source": [
    "re = sm.ols(formula = 'winPlacePerc ~ assists+ boosts+ heals+ damageDealt+DBNOs+ kills+ headshotKills+ killStreaks+longestKill+ rideDistance+walkDistance+weaponsAcquired', data = train).fit()\n",
    "re.summary()"
   ]
  },
  {
   "cell_type": "markdown",
   "metadata": {},
   "source": [
    "위 결과에서 R-squared 값은 71.6%로 설명력이 높으며 모형에 대한 p-value 또한 0.05보다 낮으므로 통계적으로 유의하다."
   ]
  },
  {
   "cell_type": "code",
   "execution_count": 6,
   "metadata": {},
   "outputs": [
    {
     "name": "stdout",
     "output_type": "stream",
     "text": [
      "                            OLS Regression Results                            \n",
      "==============================================================================\n",
      "Dep. Variable:           winPlacePerc   R-squared:                       0.716\n",
      "Model:                            OLS   Adj. R-squared:                  0.716\n",
      "Method:                 Least Squares   F-statistic:                 2.054e+05\n",
      "Date:                Tue, 01 Sep 2020   Prob (F-statistic):               0.00\n",
      "Time:                        17:21:35   Log-Likelihood:             3.8083e+05\n",
      "No. Observations:              975959   AIC:                        -7.616e+05\n",
      "Df Residuals:                  975946   BIC:                        -7.615e+05\n",
      "Df Model:                          12                                         \n",
      "Covariance Type:            nonrobust                                         \n",
      "===================================================================================\n",
      "                      coef    std err          t      P>|t|      [0.025      0.975]\n",
      "-----------------------------------------------------------------------------------\n",
      "Intercept           0.1661      0.000    526.496      0.000       0.165       0.167\n",
      "assists             0.0103      0.000     32.641      0.000       0.010       0.011\n",
      "boosts              0.0216      0.000    147.502      0.000       0.021       0.022\n",
      "heals               0.0017   7.52e-05     23.116      0.000       0.002       0.002\n",
      "damageDealt         0.0001   2.38e-06     56.991      0.000       0.000       0.000\n",
      "DBNOs              -0.0244      0.000   -108.922      0.000      -0.025      -0.024\n",
      "kills              -0.0016      0.000     -5.297      0.000      -0.002      -0.001\n",
      "headshotKills      -0.0023      0.000     -6.102      0.000      -0.003      -0.002\n",
      "killStreaks         0.0374      0.000     92.776      0.000       0.037       0.038\n",
      "longestKill      8.345e-05   4.26e-06     19.600      0.000    7.51e-05    9.18e-05\n",
      "rideDistance     1.217e-05   1.21e-07    100.206      0.000    1.19e-05    1.24e-05\n",
      "walkDistance        0.0002   2.04e-07    739.012      0.000       0.000       0.000\n",
      "weaponsAcquired     0.0203   8.25e-05    246.702      0.000       0.020       0.021\n",
      "==============================================================================\n",
      "Omnibus:                    88800.062   Durbin-Watson:                   2.000\n",
      "Prob(Omnibus):                  0.000   Jarque-Bera (JB):           397114.763\n",
      "Skew:                           0.353   Prob(JB):                         0.00\n",
      "Kurtosis:                       6.044   Cond. No.                     5.59e+03\n",
      "==============================================================================\n",
      "\n",
      "Warnings:\n",
      "[1] Standard Errors assume that the covariance matrix of the errors is correctly specified.\n",
      "[2] The condition number is large, 5.59e+03. This might indicate that there are\n",
      "strong multicollinearity or other numerical problems.\n"
     ]
    }
   ],
   "source": [
    "print(re.summary()) "
   ]
  },
  {
   "cell_type": "markdown",
   "metadata": {},
   "source": [
    "## 모형 적합도\n",
    "- R-squared: 0.716\n",
    "\n",
    " -  R제곱\n",
    " - 모형 적합도(혹은 설명력)\n",
    " - 승률의 분산을 각각의 컬림들이 약 71.6%를 설명한다\n",
    " - 각 사례마다 승률 차이가 있다.\n",
    "<br>\n",
    "<br>\n",
    "- Adj. R-squared: 0.716\n",
    "\n",
    " - 독립변수가 여러 개인 다중회귀분석에서 사용\n",
    " - 독립변수의 개수와 표본의 크기를 고려하여 R-squared를 보정\n",
    " - 서로 다른 모형을 비교할 때는 이 지표가 높은 쪽은 선택한다\n",
    "<br>\n",
    "<br>\n",
    "- F-statistic: 2.054e+05, Prob(F-statistic):  0.00\n",
    "\n",
    " - 회귀모형에 대한 (통계적) 유의미성 검증 결과, 유의미함 (p < 0.05)\n",
    " - 즉, 이 모형은 주어진 표본 뿐 아니라 모집단에서도 의미있는 모형이라 할 수 있음\n",
    " <br>\n",
    " <br>\n",
    "- 로그 우도: 종속변수가 정규분포라 가정했을 때 그 우도\n",
    "\n",
    " - 로그우도도 R제곱과 마찬가지로 독립변수가 많아지면 증가한다\n",
    " - AIC, BIC: 로그우도를 독립변수의 수로 보정한 값 (작을 수록 좋다)"
   ]
  },
  {
   "cell_type": "markdown",
   "metadata": {},
   "source": [
    "Coef는 데이터로부터 얻은 계수의 추정치를 말한다.\n",
    "\n",
    "절편(Intercept)의 추정치는  0.1661로, speed가 0일 때 dist의 값이다.\n",
    "\n",
    "- assists     계수 추정치는 0.0103  assists 1    증가할 때마다 dist가 0.0103  증가한다는 것을 의미한다.\n",
    "- boosts      계수 추정치는 0.0216 boosts 1      증가할 때마다 dist가  0.0216 증가한다는 것을 의미한다.\n",
    "- heals       계수 추정치는 0.0017 heals 1       증가할 때마다 dist가 0.0017  증가한다는 것을 의미한다.\n",
    "- damageDealt 계수 추정치는 0.0001 damageDealt 1 증가할 때마다 dist가 0.0001  증가한다는 것을 의미한다.\n",
    "- DBNOs       계수 추정치는 -0.0245 DBNOs  1        증가할 때마다 dist가 -0.0245    증가한다는 것을 의미한다.\n",
    "- kills       계수 추정치는  -0.0015  speed가 1       증가할 때마다 dist가  -0.0015     증가한다는 것을 의미한다.\n",
    "- headshotKills      계수 추정치는 -0.0022 speed가 1       증가할 때마다 dist가 -0.0022    증가한다는 것을 의미한다.\n",
    "- killStreaks      계수 추정치는 0.0374  speed가 1       증가할 때마다 dist가 0.0374     증가한다는 것을 의미한다.\n",
    "- longestKill       계수 추정치는 8.299e-05 speed가 1       증가할 때마다 dist가 8.299e-05    증가한다는 것을 의미한다.\n",
    "- rideDistance        계수 추정치는 1.218e-05 speed가 1       증가할 때마다 dist가 1.218e-05    증가한다는 것을 의미한다.\n",
    "- walkDistance       계수 추정치는 0.0002 speed가 1       증가할 때마다 dist가 0.0002    증가한다는 것을 의미한다.\n",
    "- weaponsAcquired        계수 추정치는  0.0203 speed가 1       증가할 때마다 dist가  0.0203    증가한다는 것을 의미한다.\n",
    "<br>\n",
    "\n",
    "**회귀분석을 실시한 결과, train 데이터의 컬럼의 P-vlaue의 값들은 0.000이기 때문에 회귀모형은 통계적으로 유의미하였다(p < 0.05).**"
   ]
  },
  {
   "cell_type": "markdown",
   "metadata": {},
   "source": [
    "## 모델 만들기 "
   ]
  },
  {
   "cell_type": "code",
   "execution_count": 7,
   "metadata": {},
   "outputs": [
    {
     "name": "stdout",
     "output_type": "stream",
     "text": [
      "2.2.0\n"
     ]
    }
   ],
   "source": [
    "import tensorflow as tf\n",
    "from tensorflow import keras\n",
    "from tensorflow.keras import layers\n",
    "print(tf.__version__)"
   ]
  },
  {
   "cell_type": "code",
   "execution_count": 8,
   "metadata": {},
   "outputs": [],
   "source": [
    "def build_model():\n",
    "    model = keras.Sequential([\n",
    "    layers.Dense(64, activation='relu', input_shape=[len(train.keys())]),\n",
    "    layers.Dense(64, activation='relu'),\n",
    "    layers.Dense(1)\n",
    "  ])\n",
    "\n",
    "    optimizer = tf.keras.optimizers.RMSprop(0.001)\n",
    "\n",
    "    model.compile(loss='mse',\n",
    "                optimizer=optimizer,\n",
    "                metrics=['mae', 'mse'])\n",
    "    return model"
   ]
  },
  {
   "cell_type": "code",
   "execution_count": 9,
   "metadata": {},
   "outputs": [
    {
     "data": {
      "text/plain": [
       "<tensorflow.python.keras.engine.sequential.Sequential at 0x1fa88512f08>"
      ]
     },
     "execution_count": 9,
     "metadata": {},
     "output_type": "execute_result"
    }
   ],
   "source": [
    "build_model()"
   ]
  },
  {
   "cell_type": "code",
   "execution_count": 10,
   "metadata": {},
   "outputs": [],
   "source": [
    "model = build_model()"
   ]
  },
  {
   "cell_type": "markdown",
   "metadata": {},
   "source": [
    "## 모델 확인"
   ]
  },
  {
   "cell_type": "code",
   "execution_count": 11,
   "metadata": {},
   "outputs": [
    {
     "name": "stdout",
     "output_type": "stream",
     "text": [
      "Model: \"sequential_1\"\n",
      "_________________________________________________________________\n",
      "Layer (type)                 Output Shape              Param #   \n",
      "=================================================================\n",
      "dense_3 (Dense)              (None, 64)                896       \n",
      "_________________________________________________________________\n",
      "dense_4 (Dense)              (None, 64)                4160      \n",
      "_________________________________________________________________\n",
      "dense_5 (Dense)              (None, 1)                 65        \n",
      "=================================================================\n",
      "Total params: 5,121\n",
      "Trainable params: 5,121\n",
      "Non-trainable params: 0\n",
      "_________________________________________________________________\n"
     ]
    }
   ],
   "source": [
    "model.summary()"
   ]
  },
  {
   "cell_type": "code",
   "execution_count": 12,
   "metadata": {},
   "outputs": [
    {
     "data": {
      "text/plain": [
       "array([[  9.951249 ],\n",
       "       [ 12.329904 ],\n",
       "       [  3.8231533],\n",
       "       [  6.681641 ],\n",
       "       [  1.3682511],\n",
       "       [ 16.246046 ],\n",
       "       [ 93.01383  ],\n",
       "       [100.917786 ],\n",
       "       [ 53.02483  ],\n",
       "       [  8.213918 ]], dtype=float32)"
      ]
     },
     "execution_count": 12,
     "metadata": {},
     "output_type": "execute_result"
    }
   ],
   "source": [
    "example_batch = train[:10]\n",
    "example_result = model.predict(example_batch)\n",
    "example_result"
   ]
  },
  {
   "cell_type": "markdown",
   "metadata": {},
   "source": [
    "## 모델 훈련 >> 선형회귀 모델"
   ]
  },
  {
   "cell_type": "code",
   "execution_count": 13,
   "metadata": {},
   "outputs": [],
   "source": [
    "from sklearn.datasets import load_boston\n",
    "from sklearn.model_selection import train_test_split\n",
    "boston = load_boston()"
   ]
  },
  {
   "cell_type": "code",
   "execution_count": 14,
   "metadata": {},
   "outputs": [],
   "source": [
    "x = train.iloc[:,:-1]\n",
    "y = train.iloc[:,-1]"
   ]
  },
  {
   "cell_type": "code",
   "execution_count": 15,
   "metadata": {},
   "outputs": [],
   "source": [
    "x_train, x_test, y_train, y_test = train_test_split(x,y,test_size=0.3, random_state =12)"
   ]
  },
  {
   "cell_type": "code",
   "execution_count": 16,
   "metadata": {},
   "outputs": [],
   "source": [
    "import sklearn\n",
    "from sklearn import linear_model\n",
    "from sklearn.linear_model import LinearRegression"
   ]
  },
  {
   "cell_type": "code",
   "execution_count": 17,
   "metadata": {},
   "outputs": [],
   "source": [
    "lr = LinearRegression()"
   ]
  },
  {
   "cell_type": "code",
   "execution_count": 18,
   "metadata": {},
   "outputs": [
    {
     "data": {
      "text/plain": [
       "LinearRegression(copy_X=True, fit_intercept=True, n_jobs=None, normalize=False)"
      ]
     },
     "execution_count": 18,
     "metadata": {},
     "output_type": "execute_result"
    }
   ],
   "source": [
    "lr.fit(x_train, y_train)"
   ]
  },
  {
   "cell_type": "code",
   "execution_count": 19,
   "metadata": {},
   "outputs": [
    {
     "name": "stdout",
     "output_type": "stream",
     "text": [
      "훈련 세트 점수 : 0.71582186\n"
     ]
    }
   ],
   "source": [
    "print('훈련 세트 점수 : {:.8f}'.format(lr.score(x_train, y_train)))"
   ]
  },
  {
   "cell_type": "code",
   "execution_count": 20,
   "metadata": {},
   "outputs": [
    {
     "name": "stdout",
     "output_type": "stream",
     "text": [
      "테스트 세트 점수:0.71753098\n"
     ]
    }
   ],
   "source": [
    "print('테스트 세트 점수:{:.8f}'.format(lr.score(x_test, y_test)))"
   ]
  },
  {
   "cell_type": "markdown",
   "metadata": {},
   "source": [
    "## 적합도 검증"
   ]
  },
  {
   "cell_type": "code",
   "execution_count": 21,
   "metadata": {},
   "outputs": [],
   "source": [
    "X = train[['assists', 'boosts', 'heals', 'damageDealt', 'DBNOs', 'kills',\n",
    "       'headshotKills', 'killStreaks', 'longestKill', 'rideDistance',\n",
    "       'walkDistance', 'weaponsAcquired']]                   \n",
    "# 독립변수들을 따로 변수에 저장. \"data\"데이터 프레임 안에 독립변수 \"x1\"과 \"x2\"를 \"X\"라는 변수에 저장.\n",
    "\n",
    "y = train['winPlacePerc']"
   ]
  },
  {
   "cell_type": "code",
   "execution_count": 22,
   "metadata": {},
   "outputs": [
    {
     "name": "stdout",
     "output_type": "stream",
     "text": [
      "a value =  0.1660504844392902\n",
      "b value =  [ 1.03076162e-02  2.16060661e-02  1.73840624e-03  1.35755290e-04\n",
      " -2.43997448e-02 -1.59734897e-03 -2.29412127e-03  3.74410242e-02\n",
      "  8.34484193e-05  1.21737102e-05  1.50851522e-04  2.03435692e-02]\n"
     ]
    }
   ],
   "source": [
    "linear_regression = linear_model.LinearRegression()\n",
    "linear_regression.fit(X = pd.DataFrame(X), y = y)\n",
    "prediction = linear_regression.predict(X = pd.DataFrame(X))\n",
    "print('a value = ', linear_regression.intercept_)\n",
    "print('b value = ', linear_regression.coef_)"
   ]
  },
  {
   "cell_type": "code",
   "execution_count": 23,
   "metadata": {},
   "outputs": [
    {
     "data": {
      "text/plain": [
       "count    9.759590e+05\n",
       "mean     4.435277e-17\n",
       "std      1.637935e-01\n",
       "min     -4.702035e+00\n",
       "25%     -1.203090e-01\n",
       "50%     -1.022598e-02\n",
       "75%      1.018960e-01\n",
       "max      8.547149e-01\n",
       "Name: winPlacePerc, dtype: float64"
      ]
     },
     "execution_count": 23,
     "metadata": {},
     "output_type": "execute_result"
    }
   ],
   "source": [
    "# 적합도 검증 - 잔차\n",
    "\n",
    "residuals = train[\"winPlacePerc\"] - prediction\n",
    "residuals.describe()"
   ]
  },
  {
   "cell_type": "code",
   "execution_count": 24,
   "metadata": {},
   "outputs": [
    {
     "name": "stdout",
     "output_type": "stream",
     "text": [
      "R_squared =  0.7163372016717134\n"
     ]
    }
   ],
   "source": [
    "# 적합도 검증 - 결정계수\n",
    "\n",
    "SSE = (residuals**2).sum()\n",
    "SST = ((y-y.mean())**2).sum()\n",
    "R_squared = 1 - (SSE/SST)\n",
    "print('R_squared = ', R_squared)"
   ]
  },
  {
   "cell_type": "markdown",
   "metadata": {},
   "source": [
    "R_squared는 71.6%는 독립변수들이 종속변수에 상당한 영향을 주는 것을 말한다."
   ]
  },
  {
   "cell_type": "code",
   "execution_count": null,
   "metadata": {},
   "outputs": [],
   "source": []
  }
 ],
 "metadata": {
  "hide_input": false,
  "kernelspec": {
   "display_name": "Python 3",
   "language": "python",
   "name": "python3"
  },
  "language_info": {
   "codemirror_mode": {
    "name": "ipython",
    "version": 3
   },
   "file_extension": ".py",
   "mimetype": "text/x-python",
   "name": "python",
   "nbconvert_exporter": "python",
   "pygments_lexer": "ipython3",
   "version": "3.7.6"
  },
  "toc": {
   "base_numbering": 1,
   "nav_menu": {},
   "number_sections": true,
   "sideBar": true,
   "skip_h1_title": false,
   "title_cell": "Table of Contents",
   "title_sidebar": "Contents",
   "toc_cell": false,
   "toc_position": {},
   "toc_section_display": true,
   "toc_window_display": false
  }
 },
 "nbformat": 4,
 "nbformat_minor": 4
}
